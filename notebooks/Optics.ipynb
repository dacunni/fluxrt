{
 "cells": [
  {
   "cell_type": "code",
   "execution_count": null,
   "metadata": {},
   "outputs": [],
   "source": [
    "from PIL import Image\n",
    "from IPython.display import display\n",
    "from matplotlib import pyplot as plt\n",
    "import sys\n",
    "import numpy as np\n",
    "from math import pow, pi, cos, sin\n",
    "sys.path.append(\"../build/bindings/python/\")\n",
    "from pyfluxrt import *"
   ]
  },
  {
   "cell_type": "code",
   "execution_count": null,
   "metadata": {},
   "outputs": [],
   "source": [
    "def plot_func(xrange, f):\n",
    "    values = np.fromiter((f(x) for x in xrange), dtype=float)\n",
    "    plt.plot(xrange, values)"
   ]
  },
  {
   "cell_type": "code",
   "execution_count": null,
   "metadata": {},
   "outputs": [],
   "source": [
    "zero_to_halfpi = np.arange(0.0, 0.5 * pi, 0.01)"
   ]
  },
  {
   "cell_type": "code",
   "execution_count": null,
   "metadata": {},
   "outputs": [],
   "source": [
    "n_min = 1.1\n",
    "n_max = 2.5\n",
    "n_step = 0.2"
   ]
  },
  {
   "cell_type": "code",
   "execution_count": null,
   "metadata": {},
   "outputs": [],
   "source": [
    "def plot_ior_func(f, caption):\n",
    "    n_i = 1.0\n",
    "    for n_t in np.arange(n_min, n_max, n_step):\n",
    "        plot_func(zero_to_halfpi, lambda x : f(n_i, x, n_t))\n",
    "    plt.title(f\"{caption}: n_i = {n_i}, n_t varying\")\n",
    "    plt.show()\n",
    "    n_t = 1.0\n",
    "    for n_i in np.arange(n_min, n_max, n_step):\n",
    "        plot_func(zero_to_halfpi, lambda x : f(n_i, x, n_t))\n",
    "    plt.title(f\"{caption}: n_i = varying, n_t = {n_t}\")\n",
    "    plt.show()"
   ]
  },
  {
   "cell_type": "code",
   "execution_count": null,
   "metadata": {},
   "outputs": [],
   "source": [
    "plot_ior_func(optics.snellsLawAngle, \"Snell's Law Angle\")"
   ]
  },
  {
   "cell_type": "code",
   "execution_count": null,
   "metadata": {},
   "outputs": [],
   "source": [
    "# Beer's Law\n",
    "for att in np.arange(0.0, 1.0, 0.1):\n",
    "    plot_func(np.arange(0.0, 10.0, 0.1), lambda x : optics.beersLawAttenuation(att, x))"
   ]
  },
  {
   "cell_type": "code",
   "execution_count": null,
   "metadata": {},
   "outputs": [],
   "source": [
    "# Beer's Law attenuation image\n",
    "w, h = 400, 100\n",
    "image = Image.new(\"RGB\", (w, h))\n",
    "att = [\n",
    "    [ 0.2, 0.7, 0.7 ],\n",
    "    [ 0.7, 0.2, 0.7 ],\n",
    "    [ 0.7, 0.7, 0.2 ],\n",
    "    [ 0.8, 0.8, 0.8 ],\n",
    "    [ 0.2, 0.2, 0.2 ]\n",
    "]\n",
    "for y in range(h):\n",
    "    for x in range(w):\n",
    "        rgb = [0,0,0]\n",
    "        for c in range(3):\n",
    "            band = int(y * len(att) / h)\n",
    "            rgb[c] = optics.beersLawAttenuation(att[band][c], 10.0 * x / (w - 1))\n",
    "        # [0,1] -> [0,255] and gamma correction\n",
    "        rgb = tuple(int(pow(c, 1.0 / 2.4) * 255) for c in rgb)\n",
    "        image.putpixel((x, y), rgb)\n",
    "display(image)"
   ]
  },
  {
   "cell_type": "code",
   "execution_count": null,
   "metadata": {},
   "outputs": [],
   "source": []
  },
  {
   "cell_type": "code",
   "execution_count": null,
   "metadata": {},
   "outputs": [],
   "source": []
  },
  {
   "cell_type": "code",
   "execution_count": null,
   "metadata": {},
   "outputs": [],
   "source": []
  }
 ],
 "metadata": {
  "kernelspec": {
   "display_name": "Python 3 (ipykernel)",
   "language": "python",
   "name": "python3"
  },
  "language_info": {
   "codemirror_mode": {
    "name": "ipython",
    "version": 3
   },
   "file_extension": ".py",
   "mimetype": "text/x-python",
   "name": "python",
   "nbconvert_exporter": "python",
   "pygments_lexer": "ipython3",
   "version": "3.7.3"
  }
 },
 "nbformat": 4,
 "nbformat_minor": 2
}
