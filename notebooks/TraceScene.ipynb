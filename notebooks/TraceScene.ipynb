{
 "metadata": {
  "language_info": {
   "codemirror_mode": {
    "name": "ipython",
    "version": 3
   },
   "file_extension": ".py",
   "mimetype": "text/x-python",
   "name": "python",
   "nbconvert_exporter": "python",
   "pygments_lexer": "ipython3",
   "version": "3.9.0-final"
  },
  "orig_nbformat": 2,
  "kernelspec": {
   "name": "python3",
   "display_name": "Python 3.9.0 64-bit",
   "metadata": {
    "interpreter": {
     "hash": "397704579725e15f5c7cb49fe5f0341eb7531c82d19f2c29d197e8b64ab5776b"
    }
   }
  }
 },
 "nbformat": 4,
 "nbformat_minor": 2,
 "cells": [
  {
   "cell_type": "code",
   "execution_count": null,
   "metadata": {},
   "outputs": [],
   "source": [
    "from PIL import Image\n",
    "from IPython.display import display\n",
    "import sys\n",
    "sys.path.append(\"../build/bindings/python/\")\n",
    "from pyfluxrt import *"
   ]
  },
  {
   "cell_type": "code",
   "execution_count": null,
   "metadata": {},
   "outputs": [],
   "source": [
    "scene = Scene()"
   ]
  },
  {
   "cell_type": "code",
   "execution_count": null,
   "metadata": {},
   "outputs": [],
   "source": [
    "#scene_file = \"../scenes/toml/transform/transform_rotate_cube.toml\"\n",
    "#scene_file = \"../scenes/toml/cornell/cornell_pieta.toml\"\n",
    "scene_file = \"../scenes/toml/sphere.toml\"\n",
    "loadSceneFromFile(scene, scene_file)\n",
    "#scene.print()"
   ]
  },
  {
   "cell_type": "code",
   "execution_count": null,
   "metadata": {},
   "outputs": [],
   "source": [
    "# TEMP Shrink scene so the notebook doesn't hang a long time\n",
    "scene.sensor.pixelwidth = scene.sensor.pixelwidth // 4\n",
    "scene.sensor.pixelheight = scene.sensor.pixelheight // 4\n",
    "scene.sensor.print() # FIXME - no output"
   ]
  },
  {
   "cell_type": "code",
   "execution_count": null,
   "metadata": {},
   "outputs": [],
   "source": [
    "renderer = Renderer()\n",
    "renderer.printConfiguration() # FIXME - no output"
   ]
  },
  {
   "cell_type": "code",
   "execution_count": null,
   "metadata": {},
   "outputs": [],
   "source": [
    "spp = 5"
   ]
  },
  {
   "cell_type": "code",
   "execution_count": null,
   "metadata": {},
   "outputs": [],
   "source": [
    "x = 5\n",
    "y = 5\n",
    "pixelCenter = vec2(x, y) + vec2(0.5, 0.5)\n",
    "standardPixel = scene.sensor.pixelStandardImageLocation(pixelCenter)\n",
    "blurCoord = vec2(0.0, 0.0)\n",
    "ray = scene.camera.rayThroughStandardImagePlane(standardPixel, blurCoord)\n"
   ]
  },
  {
   "cell_type": "code",
   "execution_count": null,
   "metadata": {},
   "outputs": [],
   "source": [
    "print(f\"ray origin {ray.origin} direction {ray.direction}\")"
   ]
  },
  {
   "cell_type": "code",
   "execution_count": null,
   "metadata": {},
   "outputs": [],
   "source": [
    "intersection = RayIntersection()\n",
    "pixelRadiance = RadianceRGB()\n",
    "rng = RNG()\n",
    "hit = renderer.traceCameraRay(scene, rng, ray, 0.0, 1, [ VaccuumMedium ], intersection, pixelRadiance)\n",
    "hit"
   ]
  },
  {
   "cell_type": "code",
   "execution_count": null,
   "metadata": {},
   "outputs": [],
   "source": [
    "intersection"
   ]
  },
  {
   "cell_type": "code",
   "execution_count": null,
   "metadata": {
    "tags": []
   },
   "outputs": [],
   "source": [
    "image = Image.new(\"RGB\", (scene.sensor.pixelwidth, scene.sensor.pixelheight))\n",
    "\n",
    "def renderPixel(x, y, thread_index):\n",
    "    num_samples = 20\n",
    "    #print(f\"renderPixel(x={x}, y={y}, thread_index={thread_index})\")\n",
    "    pixelCenter = vec2(x, y) + vec2(0.5, 0.5)\n",
    "    standardPixel = scene.sensor.pixelStandardImageLocation(pixelCenter)\n",
    "    accumRadiance = RadianceRGB()\n",
    "    for sample_index in range(0, num_samples):\n",
    "        blurCoord = vec2(0.0, 0.0)\n",
    "        ray = scene.camera.rayThroughStandardImagePlane(standardPixel, blurCoord)\n",
    "        intersection = RayIntersection()\n",
    "        pixelRadiance = RadianceRGB()\n",
    "        rng = RNG()\n",
    "        hit = renderer.traceCameraRay(scene, rng, ray, 0.0, 1,\n",
    "                                    [ VaccuumMedium ], intersection, pixelRadiance)\n",
    "        if hit:\n",
    "            accumRadiance += pixelRadiance\n",
    "    accumRadiance /= num_samples\n",
    "    rgb = tuple(int((c + 1) * 0.5 * 255)\n",
    "                for c in (accumRadiance.r, accumRadiance.g, accumRadiance.b))\n",
    "    image.putpixel((x, y), rgb)\n",
    "\n",
    "scene.sensor.forEachPixel(renderPixel)\n",
    "size = (4 * scene.sensor.pixelwidth, 4 * scene.sensor.pixelheight)\n",
    "zoomed = image.resize(size, Image.BOX)\n",
    "display(image)\n",
    "display(zoomed)"
   ]
  },
  {
   "cell_type": "code",
   "execution_count": null,
   "metadata": {},
   "outputs": [],
   "source": []
  },
  {
   "cell_type": "code",
   "execution_count": null,
   "metadata": {},
   "outputs": [],
   "source": []
  }
 ]
}