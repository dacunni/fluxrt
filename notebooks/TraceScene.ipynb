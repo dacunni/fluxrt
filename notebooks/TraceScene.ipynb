{
 "cells": [
  {
   "cell_type": "code",
   "execution_count": null,
   "metadata": {},
   "outputs": [],
   "source": [
    "from PIL import Image\n",
    "from IPython.display import display\n",
    "import sys\n",
    "import os\n",
    "from math import pow\n",
    "sys.path.append(\"../build/bindings/python/\")\n",
    "from pyfluxrt import *"
   ]
  },
  {
   "cell_type": "code",
   "execution_count": null,
   "metadata": {},
   "outputs": [],
   "source": [
    "scene_path = \"../scenes/toml/\"\n",
    "os.environ[\"SCENE_PATH\"] = scene_path\n",
    "#scene_file = scene_path + \"transform/transform_rotate_cube.toml\"\n",
    "#scene_file = scene_path + \"ornell/cornell_pieta.toml\"\n",
    "scene_file = scene_path + \"sphere.toml\"\n",
    "#scene_file = scene_path + \"disklight/disk-light-casts-shadow.toml\"\n",
    "#scene_file = scene_path + \"disklight/suzanne-smooth-mirror-disk-light.toml\"\n",
    "#scene_file = scene_path + \"disklight/suzanne-smooth-refract-disk-light.toml\"\n",
    "scene = Scene()\n",
    "loadSceneFromFile(scene, scene_file)\n",
    "#scene.print()"
   ]
  },
  {
   "cell_type": "code",
   "execution_count": null,
   "metadata": {},
   "outputs": [],
   "source": [
    "# TEMP Shrink scene so the notebook doesn't hang a long time\n",
    "scene.sensor.pixelwidth = scene.sensor.pixelwidth // 4\n",
    "scene.sensor.pixelheight = scene.sensor.pixelheight // 4\n",
    "scene.sensor.print() # FIXME - no output"
   ]
  },
  {
   "cell_type": "code",
   "execution_count": null,
   "metadata": {},
   "outputs": [],
   "source": [
    "renderer = Renderer()\n",
    "renderer.printConfiguration() # FIXME - no output"
   ]
  },
  {
   "cell_type": "code",
   "execution_count": null,
   "metadata": {},
   "outputs": [],
   "source": [
    "num_samples = 20"
   ]
  },
  {
   "cell_type": "code",
   "execution_count": null,
   "metadata": {
    "tags": []
   },
   "outputs": [],
   "source": [
    "image = Image.new(\"RGB\", (scene.sensor.pixelwidth, scene.sensor.pixelheight))\n",
    "\n",
    "def renderPixel(x, y, thread_index):\n",
    "    pixelCenter = vec2(x, y) + vec2(0.5, 0.5)\n",
    "    standardPixel = scene.sensor.pixelStandardImageLocation(pixelCenter)\n",
    "    accumRadiance = RadianceRGB()\n",
    "    for sample_index in range(0, num_samples):\n",
    "        blurCoord = vec2(0.0, 0.0)\n",
    "        ray = scene.camera.rayThroughStandardImagePlane(standardPixel, blurCoord)\n",
    "        intersection = RayIntersection()\n",
    "        pixelRadiance = RadianceRGB()\n",
    "        rng = RNG()\n",
    "        hit = renderer.traceCameraRay(scene, rng, ray, 0.0, 1,\n",
    "                                    [ VaccuumMedium ], intersection, pixelRadiance)\n",
    "        if hit:\n",
    "            accumRadiance += pixelRadiance\n",
    "    accumRadiance /= num_samples\n",
    "    # Apply gamma and convert to [0,255] range\n",
    "    rgb = tuple(int(pow(c, 1.0 / 2.4) * 255)\n",
    "                for c in (accumRadiance.r, accumRadiance.g, accumRadiance.b))\n",
    "    image.putpixel((x, y), rgb)\n",
    "\n",
    "scene.sensor.forEachPixel(renderPixel)\n",
    "display(image)"
   ]
  },
  {
   "cell_type": "code",
   "execution_count": null,
   "metadata": {},
   "outputs": [],
   "source": [
    "zoom_factor = 4\n",
    "zoomed_size = (zoom_factor * scene.sensor.pixelwidth, zoom_factor * scene.sensor.pixelheight)\n",
    "zoomed = image.resize(zoomed_size, Image.BOX)\n",
    "display(zoomed)"
   ]
  },
  {
   "cell_type": "code",
   "execution_count": null,
   "metadata": {},
   "outputs": [],
   "source": []
  }
 ],
 "metadata": {
  "kernelspec": {
   "display_name": "Python 3 (ipykernel)",
   "language": "python",
   "name": "python3"
  },
  "language_info": {
   "codemirror_mode": {
    "name": "ipython",
    "version": 3
   },
   "file_extension": ".py",
   "mimetype": "text/x-python",
   "name": "python",
   "nbconvert_exporter": "python",
   "pygments_lexer": "ipython3",
   "version": "3.7.3"
  }
 },
 "nbformat": 4,
 "nbformat_minor": 2
}
