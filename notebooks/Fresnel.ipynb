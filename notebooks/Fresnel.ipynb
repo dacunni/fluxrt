{
 "metadata": {
  "language_info": {
   "codemirror_mode": {
    "name": "ipython",
    "version": 3
   },
   "file_extension": ".py",
   "mimetype": "text/x-python",
   "name": "python",
   "nbconvert_exporter": "python",
   "pygments_lexer": "ipython3",
   "version": "3.9.0-final"
  },
  "orig_nbformat": 2,
  "kernelspec": {
   "name": "python3",
   "display_name": "Python 3.9.0 64-bit",
   "metadata": {
    "interpreter": {
     "hash": "397704579725e15f5c7cb49fe5f0341eb7531c82d19f2c29d197e8b64ab5776b"
    }
   }
  }
 },
 "nbformat": 4,
 "nbformat_minor": 2,
 "cells": [
  {
   "cell_type": "code",
   "execution_count": null,
   "metadata": {},
   "outputs": [],
   "source": [
    "from PIL import Image\n",
    "from IPython.display import display\n",
    "from matplotlib import pyplot as plt\n",
    "import sys\n",
    "import numpy as np\n",
    "from math import pow, pi, cos, sin\n",
    "sys.path.append(\"../build/bindings/python/\")\n",
    "from pyfluxrt import *"
   ]
  },
  {
   "cell_type": "code",
   "execution_count": null,
   "metadata": {},
   "outputs": [],
   "source": [
    "def plot_func(xrange, f):\n",
    "    values = np.fromiter((f(x) for x in xrange), dtype=np.float)\n",
    "    plt.plot(xrange, values)"
   ]
  },
  {
   "cell_type": "code",
   "execution_count": null,
   "metadata": {},
   "outputs": [],
   "source": [
    "zero_to_halfpi = np.arange(0.0, 0.5 * pi, 0.01)"
   ]
  },
  {
   "cell_type": "code",
   "execution_count": null,
   "metadata": {},
   "outputs": [],
   "source": [
    "n_min = 1.1\n",
    "n_max = 2.5\n",
    "n_step = 0.2"
   ]
  },
  {
   "cell_type": "code",
   "execution_count": null,
   "metadata": {},
   "outputs": [],
   "source": [
    "def plot_fresnel_func(f):\n",
    "    n_i = 1.0\n",
    "    for n_t in np.arange(n_min, n_max, n_step):\n",
    "        plot_func(zero_to_halfpi, lambda x : f(cos(x), n_i, n_t))\n",
    "    plt.show()\n",
    "    n_t = 1.0\n",
    "    for n_i in np.arange(n_min, n_max, n_step):\n",
    "        plot_func(zero_to_halfpi, lambda x : f(cos(x), n_i, n_t))\n",
    "    plt.show()"
   ]
  },
  {
   "cell_type": "code",
   "execution_count": null,
   "metadata": {},
   "outputs": [],
   "source": [
    "plot_fresnel_func(fresnel.dialectric.unpolarizedSnell)"
   ]
  },
  {
   "cell_type": "code",
   "execution_count": null,
   "metadata": {},
   "outputs": [],
   "source": [
    "plot_fresnel_func(fresnel.dialectric.parallelSnell)"
   ]
  },
  {
   "cell_type": "code",
   "execution_count": null,
   "metadata": {},
   "outputs": [],
   "source": [
    "plot_fresnel_func(fresnel.dialectric.perpendicularSnell)"
   ]
  },
  {
   "cell_type": "code",
   "execution_count": null,
   "metadata": {},
   "outputs": [],
   "source": [
    "for F0 in np.arange(0.0, 1.0, 0.1):\n",
    "    plot_func(zero_to_halfpi, lambda x : fresnel.schlick(F0, cos(x)))"
   ]
  },
  {
   "cell_type": "code",
   "execution_count": null,
   "metadata": {},
   "outputs": [],
   "source": []
  }
 ]
}