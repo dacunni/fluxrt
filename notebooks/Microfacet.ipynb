{
 "metadata": {
  "language_info": {
   "codemirror_mode": {
    "name": "ipython",
    "version": 3
   },
   "file_extension": ".py",
   "mimetype": "text/x-python",
   "name": "python",
   "nbconvert_exporter": "python",
   "pygments_lexer": "ipython3",
   "version": "3.9.0"
  },
  "orig_nbformat": 2,
  "kernelspec": {
   "name": "python3",
   "display_name": "Python 3.9.0 64-bit",
   "metadata": {
    "interpreter": {
     "hash": "397704579725e15f5c7cb49fe5f0341eb7531c82d19f2c29d197e8b64ab5776b"
    }
   }
  }
 },
 "nbformat": 4,
 "nbformat_minor": 2,
 "cells": [
  {
   "cell_type": "code",
   "execution_count": null,
   "metadata": {},
   "outputs": [],
   "source": [
    "from PIL import Image\n",
    "from IPython.display import display\n",
    "from matplotlib import pyplot as plt\n",
    "import sys\n",
    "import numpy as np\n",
    "from math import pow, pi, cos, sin\n",
    "sys.path.append(\"../build/bindings/python/\")\n",
    "from pyfluxrt import *"
   ]
  },
  {
   "cell_type": "code",
   "execution_count": null,
   "metadata": {},
   "outputs": [],
   "source": [
    "def plot_func(xrange, f, caption = ''):\n",
    "    values = np.fromiter((f(x) for x in xrange), dtype=np.float)\n",
    "    plt.title(f\"{caption}\")\n",
    "    plt.plot(xrange, values)"
   ]
  },
  {
   "cell_type": "code",
   "execution_count": null,
   "metadata": {},
   "outputs": [],
   "source": [
    "zero_to_halfpi = np.arange(0.0, 0.5 * pi, 0.01)\n",
    "zero_to_one = np.arange(0.0, 1.0, 0.01)"
   ]
  },
  {
   "cell_type": "code",
   "execution_count": null,
   "metadata": {},
   "outputs": [],
   "source": [
    "roughness_min = 0.1\n",
    "roughness_max = 1.0\n",
    "roughness_step = 0.1"
   ]
  },
  {
   "cell_type": "code",
   "execution_count": null,
   "metadata": {},
   "outputs": [],
   "source": [
    "def plot_ndf_func(f, caption):\n",
    "    for roughness in np.arange(roughness_min, roughness_max, roughness_step):\n",
    "        plot_func(zero_to_halfpi, lambda x : f(roughness, cos(x)))\n",
    "        #plot_func(zero_to_one, lambda x : f(roughness, x))\n",
    "    plt.title(f\"{caption}\")\n"
   ]
  },
  {
   "cell_type": "code",
   "execution_count": null,
   "metadata": {},
   "outputs": [],
   "source": [
    "plot_ndf_func(microfacet.normal.beckman, \"Beckman\")"
   ]
  },
  {
   "cell_type": "code",
   "execution_count": null,
   "metadata": {},
   "outputs": [],
   "source": [
    "plot_ndf_func(microfacet.normal.blinn_phong, \"Blinn Phong\")"
   ]
  },
  {
   "cell_type": "code",
   "execution_count": null,
   "metadata": {},
   "outputs": [],
   "source": []
  }
 ]
}